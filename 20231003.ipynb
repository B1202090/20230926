{
  "nbformat": 4,
  "nbformat_minor": 0,
  "metadata": {
    "colab": {
      "provenance": [],
      "authorship_tag": "ABX9TyMFUGaf+wrBvdiTzx8kh/h7",
      "include_colab_link": true
    },
    "kernelspec": {
      "name": "python3",
      "display_name": "Python 3"
    },
    "language_info": {
      "name": "python"
    }
  },
  "cells": [
    {
      "cell_type": "markdown",
      "metadata": {
        "id": "view-in-github",
        "colab_type": "text"
      },
      "source": [
        "<a href=\"https://colab.research.google.com/github/B1202090/20230926/blob/main/Untitled4.ipynb\" target=\"_parent\"><img src=\"https://colab.research.google.com/assets/colab-badge.svg\" alt=\"Open In Colab\"/></a>"
      ]
    },
    {
      "cell_type": "code",
      "source": [
        "a=int(input())\n",
        "b=str(input())\n",
        "c=int(input())\n",
        "if b=='+':\n",
        "  print(a+c)\n",
        "elif b=='-':\n",
        "  print(a-c)\n",
        "elif b=='*':\n",
        "  print(a*c)\n",
        "elif b=='/':\n",
        "  print(a/c)\n"
      ],
      "metadata": {
        "colab": {
          "base_uri": "https://localhost:8080/"
        },
        "id": "qXibnEra3SOM",
        "outputId": "638f3a5e-8cc2-4b41-ba77-bc41d1963562"
      },
      "execution_count": null,
      "outputs": [
        {
          "output_type": "stream",
          "name": "stdout",
          "text": [
            "23\n",
            "/\n",
            "5\n",
            "4.6\n"
          ]
        }
      ]
    },
    {
      "cell_type": "code",
      "execution_count": null,
      "metadata": {
        "colab": {
          "base_uri": "https://localhost:8080/"
        },
        "id": "YlI2QEWxytMf",
        "outputId": "7fadad15-b351-448f-bb2c-842f17113eac"
      },
      "outputs": [
        {
          "output_type": "stream",
          "name": "stdout",
          "text": [
            "請輸入五個分數90 68 72 19 66\n",
            "68.66666666666667\n"
          ]
        }
      ],
      "source": [
        "a=map(int,input('請輸入五個分數').split( ))\n",
        "a=sorted(a)\n",
        "del a[0]\n",
        "del a[3]\n",
        "print((a[0]+a[1]+a[2])/3)"
      ]
    },
    {
      "cell_type": "code",
      "source": [
        "a=int(input('請輸入年份'))\n",
        "if a>1581:\n",
        "  if a%400==0:\n",
        "    print('是閏年')\n",
        "  elif a%100==0:\n",
        "    print('不是閏年')\n",
        "  elif a%4==0:\n",
        "    print('是閏年')\n",
        "  else:\n",
        "    print('不是閏年')\n",
        "else:\n",
        "  if a%4==0:\n",
        "    print('是閏年')\n",
        "  else:\n",
        "    print('不是閏年')"
      ],
      "metadata": {
        "colab": {
          "base_uri": "https://localhost:8080/"
        },
        "id": "NR-FcCL93dV3",
        "outputId": "26155bd0-da1f-439b-ba96-a2fdb416dc15"
      },
      "execution_count": null,
      "outputs": [
        {
          "output_type": "stream",
          "name": "stdout",
          "text": [
            "請輸入年份1400\n",
            "是閏年\n"
          ]
        }
      ]
    }
  ]
}
