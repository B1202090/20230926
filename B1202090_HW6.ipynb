{
  "nbformat": 4,
  "nbformat_minor": 0,
  "metadata": {
    "colab": {
      "provenance": [],
      "authorship_tag": "ABX9TyOf4NgwqggsSNRBDFGxmm7H",
      "include_colab_link": true
    },
    "kernelspec": {
      "name": "python3",
      "display_name": "Python 3"
    },
    "language_info": {
      "name": "python"
    }
  },
  "cells": [
    {
      "cell_type": "markdown",
      "metadata": {
        "id": "view-in-github",
        "colab_type": "text"
      },
      "source": [
        "<a href=\"https://colab.research.google.com/github/B1202090/20230926/blob/main/B1202090_HW6.ipynb\" target=\"_parent\"><img src=\"https://colab.research.google.com/assets/colab-badge.svg\" alt=\"Open In Colab\"/></a>"
      ]
    },
    {
      "cell_type": "code",
      "execution_count": null,
      "metadata": {
        "id": "3xr7NpRtewg9",
        "colab": {
          "base_uri": "https://localhost:8080/"
        },
        "outputId": "85651c9c-011d-4974-dc3f-ae3fdef3809e"
      },
      "outputs": [
        {
          "output_type": "stream",
          "name": "stdout",
          "text": [
            "請輸入聖誕樹層數8\n",
            "       *\n",
            "      ***\n",
            "     *****\n",
            "    *******\n",
            "   *********\n",
            "  ***********\n",
            " *************\n",
            "***************\n",
            "      ***\n",
            "      ***\n",
            "      ***\n",
            "      ***\n",
            "      ***\n"
          ]
        }
      ],
      "source": [
        "def f(c):\n",
        "  i=c-1\n",
        "  s=1\n",
        "  for a in range(c):\n",
        "    print((' ')*(m)+('*')*(n))\n",
        "    m=m-1\n",
        "    n=n+2\n",
        "  for b in range((x)-3):\n",
        "    print((' ')*((x)-2)+('*')*3)\n",
        "num=int(input('請輸入聖誕樹層數'))\n",
        "f(num)\n",
        "\n"
      ]
    },
    {
      "cell_type": "code",
      "source": [
        "def bmi(height,weight):\n",
        "  result=(weight)/(((height)/100)**2)\n",
        "  return result\n",
        "try:\n",
        "  a=int(input('請輸入身高(cm)'))\n",
        "  b=int(input('請輸入體重(kg)'))\n",
        "  c=bmi(a,b)\n",
        "  if c<18.5:\n",
        "    print('BMI=',(c),'體重過輕')\n",
        "  elif 18.5<=c<24:\n",
        "    print('BMI=',(c),'體重適中')\n",
        "  elif 24<=c<27:\n",
        "    print('BMI=',(c),'體重過重')\n",
        "  else:\n",
        "    print('BMI=',(c),'體重超重')\n",
        "except:\n",
        "  print('錯誤')\n",
        "\n",
        "\n"
      ],
      "metadata": {
        "id": "-_cLQu3ah6-V",
        "colab": {
          "base_uri": "https://localhost:8080/"
        },
        "outputId": "4aabcd6d-c32f-4d09-ff20-fb9d2050160b"
      },
      "execution_count": null,
      "outputs": [
        {
          "output_type": "stream",
          "name": "stdout",
          "text": [
            "請輸入身高(cm)170\n",
            "請輸入體重(kg)100\n",
            "BMI= 34.602076124567475 體重超重\n"
          ]
        }
      ]
    }
  ]
}